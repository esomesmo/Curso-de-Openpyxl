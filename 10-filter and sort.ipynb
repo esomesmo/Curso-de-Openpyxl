{
 "cells": [
  {
   "cell_type": "markdown",
   "id": "4a591913-34a5-453a-94eb-435cea927a62",
   "metadata": {},
   "source": [
    "# FILTER AND SORT"
   ]
  },
  {
   "cell_type": "code",
   "execution_count": 1,
   "id": "8352dfc3-1c37-49ba-812e-97297213189a",
   "metadata": {
    "tags": []
   },
   "outputs": [],
   "source": [
    "# imports\n",
    "from openpyxl import Workbook"
   ]
  },
  {
   "cell_type": "code",
   "execution_count": 2,
   "id": "a7d9455e-eea3-4483-abfb-3fc026164967",
   "metadata": {},
   "outputs": [
    {
     "name": "stdout",
     "output_type": "stream",
     "text": [
      "17\n"
     ]
    }
   ],
   "source": [
    "# create workbook\n",
    "workbook = Workbook()\n",
    "worksheet = workbook.active\n",
    "worksheet.column_dimensions['A'].width = 14\n",
    "\n",
    "# list of lists for vehicle inventory\n",
    "inventory = [\n",
    "    ['Vehicle', 'Number'],\n",
    "    ['Accord', 13],\n",
    "    ['Sentra', 15],\n",
    "    ['Altima', 8],\n",
    "    ['Maxima', 9],\n",
    "    ['Avalon', 7],\n",
    "    ['Corolla', 18],\n",
    "    ['RAV4', 9],\n",
    "    ['Prius', 3],\n",
    "    ['4Runner', 5],\n",
    "    ['CR-V', 10],\n",
    "    ['Sienna', 6],\n",
    "    ['Civic', 21],\n",
    "    ['Pilot', 2],\n",
    "    ['Highlander', 5],\n",
    "    ['Camry', 23],\n",
    "    ['F-150', 25]\n",
    "]\n",
    "\n",
    "# display number of rows\n",
    "print(len(inventory))\n",
    "\n",
    "# append values from inventory to worksheet\n",
    "for i in inventory:\n",
    "    worksheet.append(i)\n",
    "\n",
    "# filter cell reference\n",
    "worksheet.auto_filter.ref = 'A1:B17'\n",
    "\n",
    "# set filter, add sort\n",
    "# ***** this will add the relevant instructions to the file but will neither actually filter nor sort *****\n",
    "# worksheet.auto_filter.add_filter_column(0, ['Corolla', 'Camry'])\n",
    "# worksheet.auto_filter.add_sort_condition('B2:B17', descending=True)\n",
    "\n",
    "# save workbook\n",
    "workbook.save('filtered.xlsx')"
   ]
  }
 ],
 "metadata": {
  "kernelspec": {
   "display_name": "Python 3",
   "language": "python",
   "name": "python3"
  },
  "language_info": {
   "codemirror_mode": {
    "name": "ipython",
    "version": 3
   },
   "file_extension": ".py",
   "mimetype": "text/x-python",
   "name": "python",
   "nbconvert_exporter": "python",
   "pygments_lexer": "ipython3",
   "version": "3.8.8"
  }
 },
 "nbformat": 4,
 "nbformat_minor": 5
}
