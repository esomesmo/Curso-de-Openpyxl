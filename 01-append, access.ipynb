{
 "cells": [
  {
   "cell_type": "markdown",
   "id": "24934b5e-ef66-401d-931c-c13a1b4022bc",
   "metadata": {
    "tags": []
   },
   "source": [
    "# APPEND"
   ]
  },
  {
   "cell_type": "code",
   "execution_count": 57,
   "id": "001d77d5-cca1-4409-8490-f4555070e0bb",
   "metadata": {},
   "outputs": [],
   "source": [
    "# imports\n",
    "from openpyxl import Workbook\n",
    "import openpyxl\n",
    "import pandas as pd"
   ]
  },
  {
   "cell_type": "code",
   "execution_count": 58,
   "id": "c40a9618-51f4-4bc7-978f-e5a2a67baf35",
   "metadata": {},
   "outputs": [],
   "source": [
    "# create workbook and make worksheet active\n",
    "workbook = Workbook()\n",
    "worksheet = workbook.active"
   ]
  },
  {
   "cell_type": "code",
   "execution_count": 59,
   "id": "6a8e5369-29c6-4e7e-bfd9-12637004ea56",
   "metadata": {},
   "outputs": [],
   "source": [
    "# append rows\n",
    "worksheet.append([1, 2, 3, 4, 5])\n",
    "worksheet.append([10, 20, 30, 40, 50])\n",
    "worksheet.append([100, 200, 300, 400, 500])\n",
    "worksheet.append([1000, 2000, 3000, 4000, 5000])\n",
    "worksheet.append([10000, 20000, 30000, 40000, 50000])"
   ]
  },
  {
   "cell_type": "code",
   "execution_count": 60,
   "id": "b3ddf6a3-2bce-4fbd-983b-eeb8c988c6f3",
   "metadata": {},
   "outputs": [
    {
     "data": {
      "text/plain": [
       "DatetimeIndex(['2016-01-01', '2016-01-02', '2016-01-03', '2016-01-04',\n",
       "               '2016-01-05', '2016-01-06', '2016-01-07', '2016-01-08',\n",
       "               '2016-01-09', '2016-01-10', '2016-01-11', '2016-01-12',\n",
       "               '2016-01-13', '2016-01-14', '2016-01-15', '2016-01-16',\n",
       "               '2016-01-17', '2016-01-18', '2016-01-19', '2016-01-20',\n",
       "               '2016-01-21', '2016-01-22', '2016-01-23', '2016-01-24',\n",
       "               '2016-01-25', '2016-01-26', '2016-01-27', '2016-01-28',\n",
       "               '2016-01-29', '2016-01-30', '2016-01-31'],\n",
       "              dtype='datetime64[ns]', freq='D')"
      ]
     },
     "execution_count": 60,
     "metadata": {},
     "output_type": "execute_result"
    }
   ],
   "source": [
    "# create a date range\n",
    "date_range = pd.date_range(start='1-1-16', end='1-31-16')\n",
    "date_range"
   ]
  },
  {
   "cell_type": "code",
   "execution_count": 61,
   "id": "9d798ae8-c5af-4970-9375-8daa2e6f0a89",
   "metadata": {},
   "outputs": [],
   "source": [
    "# append date range\n",
    "for i in date_range:\n",
    "    worksheet.append([i])"
   ]
  },
  {
   "cell_type": "code",
   "execution_count": 62,
   "id": "27f7a24e-7b81-4e8b-9afa-264aa3c45123",
   "metadata": {},
   "outputs": [],
   "source": [
    "# append to specific column\n",
    "worksheet.append({'G': 1, 'H': 2, 'I': 3, 'J': 4, 'K': 6})"
   ]
  },
  {
   "cell_type": "code",
   "execution_count": 63,
   "id": "b731eca2-f77a-4f35-90ca-ba3ccc70a7b0",
   "metadata": {},
   "outputs": [],
   "source": [
    "# place values in specific cells\n",
    "letters = ['a', 'b', 'c', 'd', 'e']\n",
    "for index, value in enumerate(letters):\n",
    "    worksheet.cell(row=index+2, column=7, value=value)"
   ]
  },
  {
   "cell_type": "code",
   "execution_count": 64,
   "id": "8dff5b17-7aa4-432c-bf36-120b6d5827e6",
   "metadata": {},
   "outputs": [
    {
     "data": {
      "text/plain": [
       "7"
      ]
     },
     "execution_count": 64,
     "metadata": {},
     "output_type": "execute_result"
    }
   ],
   "source": [
    "# column_index_from_string can be used instead of a number for the column\n",
    "openpyxl.utils.column_index_from_string('G')"
   ]
  },
  {
   "cell_type": "markdown",
   "id": "3d37f086-b048-47e4-a052-0b0e32a85fee",
   "metadata": {},
   "source": [
    "# ACCESS"
   ]
  },
  {
   "cell_type": "code",
   "execution_count": 65,
   "id": "ee804950-5a1a-42c7-8a7c-fcde3b91a5ac",
   "metadata": {},
   "outputs": [
    {
     "name": "stdout",
     "output_type": "stream",
     "text": [
      "(1, 2, 3, 4, 5)\n",
      "(10, 20, 30, 40, 50)\n",
      "(100, 200, 300, 400, 500)\n",
      "(1000, 2000, 3000, 4000, 5000)\n",
      "(10000, 20000, 30000, 40000, 50000)\n"
     ]
    }
   ],
   "source": [
    "# access specific cell values with for loop\n",
    "for row in worksheet.iter_rows(min_row=1, max_row=5, min_col=1, max_col=5, values_only=True):\n",
    "    print(row)"
   ]
  },
  {
   "cell_type": "code",
   "execution_count": 66,
   "id": "dfae2742-091a-4112-9776-bed4a3763206",
   "metadata": {},
   "outputs": [
    {
     "name": "stdout",
     "output_type": "stream",
     "text": [
      "(1, 2, 3, 4, 5, None, None, None, None, None, None)\n",
      "(10, 20, 30, 40, 50, None, 'a', None, None, None, None)\n",
      "(100, 200, 300, 400, 500, None, 'b', None, None, None, None)\n",
      "(1000, 2000, 3000, 4000, 5000, None, 'c', None, None, None, None)\n",
      "(10000, 20000, 30000, 40000, 50000, None, 'd', None, None, None, None)\n",
      "(Timestamp('2016-01-01 00:00:00', freq='D'), None, None, None, None, None, 'e', None, None, None, None)\n",
      "(Timestamp('2016-01-02 00:00:00', freq='D'), None, None, None, None, None, None, None, None, None, None)\n",
      "(Timestamp('2016-01-03 00:00:00', freq='D'), None, None, None, None, None, None, None, None, None, None)\n",
      "(Timestamp('2016-01-04 00:00:00', freq='D'), None, None, None, None, None, None, None, None, None, None)\n",
      "(Timestamp('2016-01-05 00:00:00', freq='D'), None, None, None, None, None, None, None, None, None, None)\n",
      "(Timestamp('2016-01-06 00:00:00', freq='D'), None, None, None, None, None, None, None, None, None, None)\n",
      "(Timestamp('2016-01-07 00:00:00', freq='D'), None, None, None, None, None, None, None, None, None, None)\n",
      "(Timestamp('2016-01-08 00:00:00', freq='D'), None, None, None, None, None, None, None, None, None, None)\n",
      "(Timestamp('2016-01-09 00:00:00', freq='D'), None, None, None, None, None, None, None, None, None, None)\n",
      "(Timestamp('2016-01-10 00:00:00', freq='D'), None, None, None, None, None, None, None, None, None, None)\n",
      "(Timestamp('2016-01-11 00:00:00', freq='D'), None, None, None, None, None, None, None, None, None, None)\n",
      "(Timestamp('2016-01-12 00:00:00', freq='D'), None, None, None, None, None, None, None, None, None, None)\n",
      "(Timestamp('2016-01-13 00:00:00', freq='D'), None, None, None, None, None, None, None, None, None, None)\n",
      "(Timestamp('2016-01-14 00:00:00', freq='D'), None, None, None, None, None, None, None, None, None, None)\n",
      "(Timestamp('2016-01-15 00:00:00', freq='D'), None, None, None, None, None, None, None, None, None, None)\n",
      "(Timestamp('2016-01-16 00:00:00', freq='D'), None, None, None, None, None, None, None, None, None, None)\n",
      "(Timestamp('2016-01-17 00:00:00', freq='D'), None, None, None, None, None, None, None, None, None, None)\n",
      "(Timestamp('2016-01-18 00:00:00', freq='D'), None, None, None, None, None, None, None, None, None, None)\n",
      "(Timestamp('2016-01-19 00:00:00', freq='D'), None, None, None, None, None, None, None, None, None, None)\n",
      "(Timestamp('2016-01-20 00:00:00', freq='D'), None, None, None, None, None, None, None, None, None, None)\n",
      "(Timestamp('2016-01-21 00:00:00', freq='D'), None, None, None, None, None, None, None, None, None, None)\n",
      "(Timestamp('2016-01-22 00:00:00', freq='D'), None, None, None, None, None, None, None, None, None, None)\n",
      "(Timestamp('2016-01-23 00:00:00', freq='D'), None, None, None, None, None, None, None, None, None, None)\n",
      "(Timestamp('2016-01-24 00:00:00', freq='D'), None, None, None, None, None, None, None, None, None, None)\n",
      "(Timestamp('2016-01-25 00:00:00', freq='D'), None, None, None, None, None, None, None, None, None, None)\n",
      "(Timestamp('2016-01-26 00:00:00', freq='D'), None, None, None, None, None, None, None, None, None, None)\n",
      "(Timestamp('2016-01-27 00:00:00', freq='D'), None, None, None, None, None, None, None, None, None, None)\n",
      "(Timestamp('2016-01-28 00:00:00', freq='D'), None, None, None, None, None, None, None, None, None, None)\n",
      "(Timestamp('2016-01-29 00:00:00', freq='D'), None, None, None, None, None, None, None, None, None, None)\n",
      "(Timestamp('2016-01-30 00:00:00', freq='D'), None, None, None, None, None, None, None, None, None, None)\n",
      "(Timestamp('2016-01-31 00:00:00', freq='D'), None, None, None, None, None, None, None, None, None, None)\n",
      "(None, None, None, None, None, None, 1, 2, 3, 4, 6)\n"
     ]
    }
   ],
   "source": [
    "# access all cell values with for loop\n",
    "for row in worksheet.iter_rows(values_only=True):\n",
    "    print(row)"
   ]
  },
  {
   "cell_type": "code",
   "execution_count": 67,
   "id": "9f925ce3-48c6-4879-a25b-a9cf67861145",
   "metadata": {},
   "outputs": [
    {
     "name": "stdout",
     "output_type": "stream",
     "text": [
      "<Cell 'Sheet'.A1>\n",
      "1\n"
     ]
    }
   ],
   "source": [
    "# access one cell\n",
    "print(worksheet.cell(row=1, column=1))\n",
    "print(worksheet.cell(row=1, column=1).value)"
   ]
  },
  {
   "cell_type": "code",
   "execution_count": 68,
   "id": "32189ea9-cfa3-456e-9a89-8cdc5edc0749",
   "metadata": {},
   "outputs": [
    {
     "name": "stdout",
     "output_type": "stream",
     "text": [
      "1\n",
      "2\n",
      "3\n",
      "4\n",
      "5\n",
      "10\n",
      "20\n",
      "30\n",
      "40\n",
      "50\n",
      "100\n",
      "200\n",
      "300\n",
      "400\n",
      "500\n",
      "1000\n",
      "2000\n",
      "3000\n",
      "4000\n",
      "5000\n",
      "10000\n",
      "20000\n",
      "30000\n",
      "40000\n",
      "50000\n"
     ]
    }
   ],
   "source": [
    "# access specific cell values\n",
    "for row in range(1,6):\n",
    "    for col in range(1,6):\n",
    "        print(worksheet.cell(row, col).value)"
   ]
  },
  {
   "cell_type": "code",
   "execution_count": 69,
   "id": "0061325a-9a26-4ef7-89f4-32a4a8e23c4c",
   "metadata": {},
   "outputs": [],
   "source": [
    "workbook.save('append.xlsx')"
   ]
  }
 ],
 "metadata": {
  "kernelspec": {
   "display_name": "Python 3",
   "language": "python",
   "name": "python3"
  },
  "language_info": {
   "codemirror_mode": {
    "name": "ipython",
    "version": 3
   },
   "file_extension": ".py",
   "mimetype": "text/x-python",
   "name": "python",
   "nbconvert_exporter": "python",
   "pygments_lexer": "ipython3",
   "version": "3.8.8"
  }
 },
 "nbformat": 4,
 "nbformat_minor": 5
}
