{
 "cells": [
  {
   "cell_type": "markdown",
   "id": "85a325d7-f547-481e-9794-0d4885c14553",
   "metadata": {},
   "source": [
    "# INSERT, DELETE, MOVE"
   ]
  },
  {
   "cell_type": "code",
   "execution_count": 1,
   "id": "13b172c9-112f-473c-b799-1bdbc78a5211",
   "metadata": {},
   "outputs": [],
   "source": [
    "# imports\n",
    "from openpyxl import Workbook"
   ]
  },
  {
   "cell_type": "code",
   "execution_count": 2,
   "id": "375e0545-1888-47ce-9fd8-bbf86c386307",
   "metadata": {},
   "outputs": [],
   "source": [
    "# create a workbook and grab active worksheet\n",
    "workbook = Workbook()\n",
    "worksheet = workbook.active"
   ]
  },
  {
   "cell_type": "code",
   "execution_count": 3,
   "id": "450890a2-523e-46d3-8655-b1e396fe1932",
   "metadata": {},
   "outputs": [],
   "source": [
    "# append data to worksheet\n",
    "worksheet.append([1, 2, 3, 4, 5])\n",
    "worksheet.append([1, 2, 3, 4, 5])\n",
    "worksheet.append([1, 2, 3, 4, 5])\n",
    "worksheet.append([1, 2, 3, 4, 5])\n",
    "worksheet.append([1, 2, 3, 4, 5])"
   ]
  },
  {
   "cell_type": "code",
   "execution_count": 4,
   "id": "143079c3-7ce1-4f0c-a47a-6777c6235c70",
   "metadata": {},
   "outputs": [],
   "source": [
    "# insert rows\n",
    "worksheet.insert_rows(idx=1, amount=5)"
   ]
  },
  {
   "cell_type": "code",
   "execution_count": 5,
   "id": "4cae265b-1eb8-43dc-82aa-1c9f4535d1b3",
   "metadata": {},
   "outputs": [],
   "source": [
    "# insert columns\n",
    "worksheet.insert_cols(idx=4, amount=1)"
   ]
  },
  {
   "cell_type": "code",
   "execution_count": 6,
   "id": "f266616e-aa18-4853-9cd7-3aae63f86541",
   "metadata": {},
   "outputs": [],
   "source": [
    "# delete rows\n",
    "worksheet.delete_rows(idx=9, amount=2)"
   ]
  },
  {
   "cell_type": "code",
   "execution_count": 7,
   "id": "3f84a90c-e4b8-4089-b080-72e242750b92",
   "metadata": {},
   "outputs": [],
   "source": [
    "# delete columns\n",
    "worksheet.delete_cols(idx=3, amount=1)"
   ]
  },
  {
   "cell_type": "code",
   "execution_count": 8,
   "id": "1603e042-1a1c-4617-bc77-826c7ae9e026",
   "metadata": {},
   "outputs": [],
   "source": [
    "# move cells up 5 and to the right 2\n",
    "worksheet.move_range(cell_range='A6:E8', rows=-5, cols=2)"
   ]
  },
  {
   "cell_type": "code",
   "execution_count": 9,
   "id": "09ef4a7f-f330-4d3a-b646-caaa7b264d6d",
   "metadata": {},
   "outputs": [],
   "source": [
    "# save workbook\n",
    "workbook.save('insert_delete_move.xlsx')"
   ]
  }
 ],
 "metadata": {
  "kernelspec": {
   "display_name": "Python 3",
   "language": "python",
   "name": "python3"
  },
  "language_info": {
   "codemirror_mode": {
    "name": "ipython",
    "version": 3
   },
   "file_extension": ".py",
   "mimetype": "text/x-python",
   "name": "python",
   "nbconvert_exporter": "python",
   "pygments_lexer": "ipython3",
   "version": "3.8.8"
  }
 },
 "nbformat": 4,
 "nbformat_minor": 5
}
