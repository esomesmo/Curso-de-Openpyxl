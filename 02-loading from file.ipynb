{
 "cells": [
  {
   "cell_type": "markdown",
   "id": "244eebec-f8f2-477f-9c0e-e1c29234ca65",
   "metadata": {},
   "source": [
    "# LOADING FROM FILE"
   ]
  },
  {
   "cell_type": "code",
   "execution_count": 3,
   "id": "6f4ff2ec-da32-467d-a483-9220e8bcb76e",
   "metadata": {},
   "outputs": [],
   "source": [
    "from openpyxl import load_workbook"
   ]
  },
  {
   "cell_type": "code",
   "execution_count": 4,
   "id": "e2bb5216-b283-4475-9999-279f19bf6d94",
   "metadata": {},
   "outputs": [
    {
     "name": "stdout",
     "output_type": "stream",
     "text": [
      "('A', 'B', 'C', 'D', 'E')\n",
      "(0.0565703891713485, 0.000982022801886621, 0.388895833705364, 0.00718414966757866, 0.17636386801073)\n",
      "(0.647511705139756, 0.426410497465726, 0.959887903440155, 0.273132154076939, 0.888670327787073)\n",
      "(0.0812542794367168, 0.593190978224692, 0.858101774275397, 0.233801549371853, 0.60930052554731)\n",
      "(0.734636536051985, 0.938267334271894, 0.0898437003313116, 0.433924827356607, 0.736482556503858)\n",
      "(0.0524121255410478, 0.0475185134719436, 0.936930518779235, 0.707491038337709, 0.0791667034885639)\n",
      "(0.24591207496843, 0.163970716316973, 0.359224823830261, 0.576716416951592, 0.0310828315181476)\n",
      "(0.178764513236409, 0.478599563450234, 0.619864672037756, 0.899520533932613, 0.712713732019406)\n",
      "(0.458974586092192, 0.483856916564775, 0.808639406946881, 0.597264718037875, 0.95930242427778)\n",
      "(0.298962130421708, 0.194827645738385, 0.849255711262036, 0.39541571081351, 0.68983365981801)\n"
     ]
    }
   ],
   "source": [
    "workbook = load_workbook('LibreOfficeCalcDoc.xlsx')\n",
    "worksheet = workbook.active\n",
    "for i in worksheet.iter_rows(values_only=True):\n",
    "    print(i)"
   ]
  },
  {
   "cell_type": "code",
   "execution_count": 5,
   "id": "a7426eb4-6f4c-4e9a-99f0-e0543f839dbf",
   "metadata": {},
   "outputs": [],
   "source": [
    "# change value\n",
    "worksheet['A2'] = 10\n",
    "# worksheet['A1'].value = 10\n",
    "workbook.save('LibreOfficeCalcDoc.xlsx')"
   ]
  }
 ],
 "metadata": {
  "kernelspec": {
   "display_name": "Python 3",
   "language": "python",
   "name": "python3"
  },
  "language_info": {
   "codemirror_mode": {
    "name": "ipython",
    "version": 3
   },
   "file_extension": ".py",
   "mimetype": "text/x-python",
   "name": "python",
   "nbconvert_exporter": "python",
   "pygments_lexer": "ipython3",
   "version": "3.8.8"
  }
 },
 "nbformat": 4,
 "nbformat_minor": 5
}
