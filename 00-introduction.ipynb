{
 "cells": [
  {
   "cell_type": "markdown",
   "id": "cae61025-1d0e-417e-8e20-b9bb4f0583bb",
   "metadata": {
    "tags": []
   },
   "source": [
    "# INTRODUCTION"
   ]
  },
  {
   "cell_type": "code",
   "execution_count": 49,
   "id": "d15bea48-40b6-40ed-85e8-a1e318223f6d",
   "metadata": {
    "tags": []
   },
   "outputs": [],
   "source": [
    "from openpyxl import Workbook"
   ]
  },
  {
   "cell_type": "code",
   "execution_count": 50,
   "id": "cd41a3f2-a213-47a1-ab45-02cfa945d2c7",
   "metadata": {},
   "outputs": [],
   "source": [
    "# create a workbook\n",
    "# workbook is the container for all other parts of the document\n",
    "workbook = Workbook()"
   ]
  },
  {
   "cell_type": "code",
   "execution_count": 51,
   "id": "d9e5984c-04a1-4207-b45e-ee045e593bfb",
   "metadata": {},
   "outputs": [],
   "source": [
    "# get the currently active sheet\n",
    "worksheet = workbook.active"
   ]
  },
  {
   "cell_type": "code",
   "execution_count": 52,
   "id": "90265d84-1120-4533-a8c4-7acb35403b7d",
   "metadata": {},
   "outputs": [
    {
     "name": "stdout",
     "output_type": "stream",
     "text": [
      "<Worksheet \"Sheet\">\n"
     ]
    }
   ],
   "source": [
    "# print sheet names\n",
    "print(worksheet)"
   ]
  },
  {
   "cell_type": "code",
   "execution_count": 53,
   "id": "4dd4efad-ff4f-4d92-b7a3-b752d651c3fe",
   "metadata": {},
   "outputs": [],
   "source": [
    "# set title\n",
    "worksheet.title = 'worksheet 1'"
   ]
  },
  {
   "cell_type": "code",
   "execution_count": 54,
   "id": "33f01985-edd9-4289-a4de-4df3736946c9",
   "metadata": {},
   "outputs": [],
   "source": [
    "# assign data directly to cells\n",
    "worksheet['A1'] = 0"
   ]
  },
  {
   "cell_type": "code",
   "execution_count": 55,
   "id": "03eff60c-b24c-41df-b335-076637e284a9",
   "metadata": {},
   "outputs": [
    {
     "data": {
      "text/plain": [
       "<Cell 'worksheet 1'.C1>"
      ]
     },
     "execution_count": 55,
     "metadata": {},
     "output_type": "execute_result"
    }
   ],
   "source": [
    "# assign data with cell method\n",
    "worksheet.cell(row=1, column=3, value=100)"
   ]
  },
  {
   "cell_type": "code",
   "execution_count": 56,
   "id": "fc8af555-dd45-47ca-a958-1e7772b87354",
   "metadata": {},
   "outputs": [],
   "source": [
    "# create new sheet\n",
    "worksheet2 = workbook.create_sheet('worksheet 2')"
   ]
  },
  {
   "cell_type": "code",
   "execution_count": 57,
   "id": "779c283c-d6a8-4b93-ae1a-f75cd64a0677",
   "metadata": {},
   "outputs": [],
   "source": [
    "# make new worksheet active\n",
    "workbook.active = workbook['worksheet 2']\n",
    "\n",
    "# or using a number might work in some cases\n",
    "# workbook.active = 2"
   ]
  },
  {
   "cell_type": "code",
   "execution_count": 58,
   "id": "d4e97e02-24ba-4580-9a7b-84487474bc5a",
   "metadata": {},
   "outputs": [],
   "source": [
    "# assign data to new worksheet\n",
    "worksheet2['A1'] = 1"
   ]
  },
  {
   "cell_type": "code",
   "execution_count": 59,
   "id": "a0fe7519-3264-4302-9330-1291386bb9aa",
   "metadata": {},
   "outputs": [],
   "source": [
    "# set tab color\n",
    "# colors must be aRGB hex values\n",
    "worksheet2.sheet_properties.tabColor = '24A67B'"
   ]
  },
  {
   "cell_type": "code",
   "execution_count": 60,
   "id": "5b5fc7eb-38d9-4f36-9648-a08d5050fb70",
   "metadata": {},
   "outputs": [
    {
     "data": {
      "text/plain": [
       "'0024A67B'"
      ]
     },
     "execution_count": 60,
     "metadata": {},
     "output_type": "execute_result"
    }
   ],
   "source": [
    "# alpha is added to beginning\n",
    "worksheet2.sheet_properties.tabColor.rgb"
   ]
  },
  {
   "cell_type": "code",
   "execution_count": 61,
   "id": "48e6e21b-9ab9-421b-a2c2-e78f26aeca05",
   "metadata": {},
   "outputs": [
    {
     "data": {
      "text/plain": [
       "<Worksheet \"worksheet 2 Copy\">"
      ]
     },
     "execution_count": 61,
     "metadata": {},
     "output_type": "execute_result"
    }
   ],
   "source": [
    "# copy worksheet\n",
    "workbook.copy_worksheet(workbook.active)"
   ]
  },
  {
   "cell_type": "code",
   "execution_count": 62,
   "id": "c4a88ef4-9283-4b8f-b6a5-987c67679e5a",
   "metadata": {},
   "outputs": [
    {
     "data": {
      "text/plain": [
       "['worksheet 1', 'worksheet 2', 'worksheet 2 Copy']"
      ]
     },
     "execution_count": 62,
     "metadata": {},
     "output_type": "execute_result"
    }
   ],
   "source": [
    "# print sheet names\n",
    "(workbook.sheetnames)"
   ]
  },
  {
   "cell_type": "code",
   "execution_count": 63,
   "id": "9003956d-f831-4998-a75c-82e223e42c13",
   "metadata": {},
   "outputs": [
    {
     "name": "stdout",
     "output_type": "stream",
     "text": [
      "worksheet 1\n",
      "worksheet 2\n",
      "worksheet 2 Copy\n"
     ]
    }
   ],
   "source": [
    "for sheet in workbook:\n",
    "    print(sheet.title)"
   ]
  },
  {
   "cell_type": "code",
   "execution_count": 64,
   "id": "aebb35b1-be35-4540-a007-53773cc1ed05",
   "metadata": {},
   "outputs": [],
   "source": [
    "# save workbook\n",
    "workbook.save('introduction.xlsx')"
   ]
  }
 ],
 "metadata": {
  "kernelspec": {
   "display_name": "Python 3",
   "language": "python",
   "name": "python3"
  },
  "language_info": {
   "codemirror_mode": {
    "name": "ipython",
    "version": 3
   },
   "file_extension": ".py",
   "mimetype": "text/x-python",
   "name": "python",
   "nbconvert_exporter": "python",
   "pygments_lexer": "ipython3",
   "version": "3.8.8"
  }
 },
 "nbformat": 4,
 "nbformat_minor": 5
}
