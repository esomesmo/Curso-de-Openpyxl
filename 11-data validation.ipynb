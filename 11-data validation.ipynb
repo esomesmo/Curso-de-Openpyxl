{
 "cells": [
  {
   "cell_type": "markdown",
   "id": "7aa364d0-6e83-4217-a34c-9f87fcd45834",
   "metadata": {},
   "source": [
    "# DATA VALIDATION"
   ]
  },
  {
   "cell_type": "code",
   "execution_count": 1,
   "id": "c4e1b5e2-437d-491a-ab68-a13125d502b2",
   "metadata": {},
   "outputs": [],
   "source": [
    "# imports\n",
    "from openpyxl import Workbook\n",
    "from openpyxl.worksheet.datavalidation import DataValidation"
   ]
  },
  {
   "cell_type": "code",
   "execution_count": 2,
   "id": "b06edd08-07a2-43fd-baed-838647a25e4b",
   "metadata": {},
   "outputs": [],
   "source": [
    "# create a workbook\n",
    "workbook = Workbook()\n",
    "worksheet = workbook.active\n",
    "worksheet.column_dimensions['A'].width = 20\n",
    "worksheet.column_dimensions['B'].width = 20\n",
    "worksheet.column_dimensions['D'].width = 20\n",
    "\n",
    "# create a data validation object\n",
    "# notice the double quotes inside single quotes\n",
    "dv_dogs = '\"Doberman,German Shepherd,Boxer,Great Dane,Greyhound,Weimaraner,Beagle,Boston Terrier,Akita,Bulldog,Bullmastiff,Cane Corso,Chihuahua,Collie\"'\n",
    "dv = DataValidation(type='list', formula1=dv_dogs)\n",
    "\n",
    "# set a custom prompt message\n",
    "# dv.prompt = 'select from the list'\n",
    "# dv.promptTitle = 'List Selection'\n",
    "\n",
    "# add the data validation object to the worksheet\n",
    "worksheet.add_data_validation(dv)\n",
    "\n",
    "# titles\n",
    "worksheet['A1'] = 'Dog Bread'\n",
    "worksheet['A2'] = 'Average Weight'\n",
    "\n",
    "# add cell B1 to the data-validation object and set the default value to Boxer\n",
    "dv.add(worksheet['B1'])\n",
    "worksheet['B1'].value = 'Boxer'\n",
    "\n",
    "# data validation can also be added to a range of cells\n",
    "# dv.add('B1:B100')\n",
    "\n",
    "# vlookup data\n",
    "dogs = ['Doberman', 'German Shepherd', 'Boxer', 'Great Dane', 'Greyhound', 'Weimaraner', 'Beagle', 'Boston Terrier', 'Akita', 'Bulldog', 'Bullmastiff', \n",
    "        'Cane Corso', 'Chihuahua', 'Collie']\n",
    "weight = [77, 71, 66, 140, 75, 70, 22, 18, 90, 45, 110, 100, 5, 60]\n",
    "\n",
    "for index, value in enumerate(dogs):\n",
    "    worksheet.cell(row=index+1, column=4, value=value)\n",
    "    \n",
    "for index, value in enumerate(weight):\n",
    "    worksheet.cell(row=index+1, column=5, value=value)\n",
    "    \n",
    "worksheet['B2'] = '=VLOOKUP(B1, $D$1:$E$14, 2, FALSE)'\n",
    "\n",
    "# save workbook\n",
    "workbook.save('validation.xlsx')"
   ]
  }
 ],
 "metadata": {
  "kernelspec": {
   "display_name": "Python 3",
   "language": "python",
   "name": "python3"
  },
  "language_info": {
   "codemirror_mode": {
    "name": "ipython",
    "version": 3
   },
   "file_extension": ".py",
   "mimetype": "text/x-python",
   "name": "python",
   "nbconvert_exporter": "python",
   "pygments_lexer": "ipython3",
   "version": "3.8.8"
  }
 },
 "nbformat": 4,
 "nbformat_minor": 5
}
