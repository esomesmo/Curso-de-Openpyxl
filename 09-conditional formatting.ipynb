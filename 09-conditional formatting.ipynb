{
 "cells": [
  {
   "cell_type": "markdown",
   "id": "69fae77f-5d58-4fb7-a5cf-4e897d8d8941",
   "metadata": {},
   "source": [
    "# CONDITIONAL FORMATTING"
   ]
  },
  {
   "cell_type": "code",
   "execution_count": 9,
   "id": "2213cbc3-2082-49e3-8759-196b96fc85de",
   "metadata": {},
   "outputs": [],
   "source": [
    "from openpyxl import Workbook\n",
    "from openpyxl.formatting.rule import ColorScaleRule, IconSet, FormatObject, Rule, DataBarRule, CellIsRule, FormulaRule\n",
    "from openpyxl.styles import PatternFill"
   ]
  },
  {
   "cell_type": "code",
   "execution_count": 10,
   "id": "e0692c11-d638-4b2b-b692-6c0530c3d854",
   "metadata": {},
   "outputs": [],
   "source": [
    "workbook = Workbook()\n",
    "worksheet = workbook.active\n",
    "\n",
    "worksheet.column_dimensions['A'].width = 10\n",
    "worksheet.column_dimensions['B'].width = 10\n",
    "worksheet.column_dimensions['C'].width = 10\n",
    "worksheet.column_dimensions['D'].width = 10\n",
    "worksheet.column_dimensions['E'].width = 10"
   ]
  },
  {
   "cell_type": "code",
   "execution_count": 11,
   "id": "61e9467d-c466-4dac-9dc8-16f3ef7c9b92",
   "metadata": {},
   "outputs": [],
   "source": [
    "# ColorScale\n",
    "worksheet['A1'] = 'color scale'\n",
    "\n",
    "numbers = [1,2,3,4,5,6,7,8,9,10]\n",
    "for index, value in enumerate(numbers):\n",
    "    worksheet.cell(row=index+2, column=1, value=value)\n",
    "    \n",
    "worksheet.conditional_formatting.add('A1:A11',\n",
    "                                     ColorScaleRule(start_type='num', start_value=1, start_color='CCFFCC',\n",
    "                                                    mid_type='num', mid_value=5, mid_color='66FF66',\n",
    "                                                    end_type='num', end_value=10, end_color='009900'))"
   ]
  },
  {
   "cell_type": "markdown",
   "id": "93f2d8b2-ea7c-4ce9-ae14-ead3d749af27",
   "metadata": {},
   "source": [
    "start_type, mid_type, end_type options: 'percent', 'num', 'formula', 'max', 'percentile', 'min'"
   ]
  },
  {
   "cell_type": "code",
   "execution_count": 12,
   "id": "6b05563e-4cc6-4290-b6cf-188e25ee100d",
   "metadata": {},
   "outputs": [],
   "source": [
    "# IconSet\n",
    "worksheet['B1'] = 'icon set'\n",
    "\n",
    "numbers = list(range(-5,5))\n",
    "# numbers = [1,-1,-2,0,5,9,-7,0,10,4]\n",
    "for index, value in enumerate(numbers):\n",
    "    worksheet.cell(row=index+2, column=2, value=value)\n",
    "\n",
    "first = FormatObject(type='formula', val=-1)\n",
    "second = FormatObject(type='formula', val=0)\n",
    "third = FormatObject(type='formula', val=1)\n",
    "iconset = IconSet(iconSet='3Arrows', cfvo=[first, second, third])\n",
    "rule = Rule(type='iconSet', iconSet=iconset)\n",
    "\n",
    "worksheet.conditional_formatting.add('B1:B11', rule)"
   ]
  },
  {
   "cell_type": "code",
   "execution_count": 13,
   "id": "6ec7e33b-4076-4def-8a54-f09c9fc1e477",
   "metadata": {},
   "outputs": [],
   "source": [
    "# DataBar\n",
    "worksheet['C1'] = 'data bar'\n",
    "\n",
    "numbers = list(range(1,11))\n",
    "for index, value in enumerate(numbers):\n",
    "    worksheet.cell(row=index+2, column=3, value=value)\n",
    "    \n",
    "rule = DataBarRule(start_type='num', start_value=1, end_type='num', end_value=10, color='FF638EC6')\n",
    "\n",
    "worksheet.conditional_formatting.add('C1:C11', rule)"
   ]
  },
  {
   "cell_type": "code",
   "execution_count": 14,
   "id": "e25ec244-2583-45cf-8589-f387ec1dd131",
   "metadata": {},
   "outputs": [],
   "source": [
    "# format if cell is equal to some number\n",
    "worksheet['D1'] = 'equal'\n",
    "\n",
    "redFill = PatternFill(start_color='EE1111', end_color='EE1111', fill_type='solid')\n",
    "\n",
    "numbers = [5,25,5,12,1,-5,5,8,55,5]\n",
    "for index, value in enumerate(numbers):\n",
    "    worksheet.cell(row=index+2, column=4, value=value)\n",
    "\n",
    "worksheet.conditional_formatting.add('D1:D11', \n",
    "                                     CellIsRule(operator='equal', formula=['5'], fill=redFill))"
   ]
  },
  {
   "cell_type": "markdown",
   "id": "70ae2b60-bc9c-43e8-87a1-00e64edbab00",
   "metadata": {},
   "source": [
    "CellIsRule options:\n",
    "'between', 'notBetween', 'lessThanOrEqual', 'containsText', 'equal', 'notEqual', 'endsWith', 'lessThan', 'beginsWith', \n",
    "'greaterThanOrEqual', 'greaterThan', 'notContains'"
   ]
  },
  {
   "cell_type": "code",
   "execution_count": 15,
   "id": "8a5c3244-47c5-419b-b749-1a5b4d1a7701",
   "metadata": {},
   "outputs": [],
   "source": [
    "# format if cell is even\n",
    "worksheet['E1'] = 'even'\n",
    "\n",
    "yellowFill = PatternFill(start_color='FFFF00', end_color='FFFF00', fill_type='solid')\n",
    "\n",
    "numbers = [1,2,3,4,5,6,7,8,9,10]\n",
    "for index, value in enumerate(numbers):\n",
    "    worksheet.cell(row=index+2, column=5, value=value)\n",
    "\n",
    "worksheet.conditional_formatting.add('E1:E11',\n",
    "                                     FormulaRule(formula=['ISEVEN(E1)'], fill=yellowFill))"
   ]
  },
  {
   "cell_type": "code",
   "execution_count": 16,
   "id": "2bdb83d6-c31b-44f4-8c65-e0ef8b8b5235",
   "metadata": {},
   "outputs": [],
   "source": [
    "workbook.save('conditional_formatting.xlsx')"
   ]
  }
 ],
 "metadata": {
  "kernelspec": {
   "display_name": "Python 3",
   "language": "python",
   "name": "python3"
  },
  "language_info": {
   "codemirror_mode": {
    "name": "ipython",
    "version": 3
   },
   "file_extension": ".py",
   "mimetype": "text/x-python",
   "name": "python",
   "nbconvert_exporter": "python",
   "pygments_lexer": "ipython3",
   "version": "3.8.8"
  }
 },
 "nbformat": 4,
 "nbformat_minor": 5
}
