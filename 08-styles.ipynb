{
 "cells": [
  {
   "cell_type": "markdown",
   "id": "2ce5171d-62d5-4d93-b2e6-9265521112e9",
   "metadata": {},
   "source": [
    "# STYLES"
   ]
  },
  {
   "cell_type": "code",
   "execution_count": 1,
   "id": "2196b786-6c67-44e9-8b98-0974526ae5c4",
   "metadata": {},
   "outputs": [],
   "source": [
    "from openpyxl.styles import Font, PatternFill, Border, Side\n",
    "from openpyxl import Workbook\n",
    "from openpyxl.utils import get_column_letter"
   ]
  },
  {
   "cell_type": "code",
   "execution_count": 2,
   "id": "a14c4ed9-e6b9-49cc-99aa-19a8000a11ce",
   "metadata": {},
   "outputs": [],
   "source": [
    "# create workbook\n",
    "workbook = Workbook()\n",
    "worksheet = workbook.active\n",
    "\n",
    "# assign values\n",
    "worksheet['A2'] = 100\n",
    "\n",
    "# change font styles\n",
    "cell = worksheet['A2']\n",
    "cell.font = Font(name='Calibri',\n",
    "                 size=20,\n",
    "                 bold=True,\n",
    "                 italic=True,\n",
    "                 underline='single',\n",
    "                 color='008000')\n",
    "\n",
    "# fill cell color\n",
    "cell.fill = PatternFill(fill_type='solid',\n",
    "                        start_color='FFFF00',\n",
    "                        end_color='FFFF00')\n",
    "\n",
    "# resize cell\n",
    "worksheet.row_dimensions[2].height = 40\n",
    "worksheet.column_dimensions['A'].width = 20"
   ]
  },
  {
   "cell_type": "code",
   "execution_count": 3,
   "id": "86072502-9196-4f32-83d8-472564acbf64",
   "metadata": {},
   "outputs": [],
   "source": [
    "# change styles of many cells all at once\n",
    "for row in range(3,8):\n",
    "    for col in range(3,6):\n",
    "        worksheet.cell(row,col).fill = PatternFill(fill_type='solid',\n",
    "                                                   start_color='00FF6600',\n",
    "                                                   end_color='00FF6600')\n",
    "        \n",
    "        worksheet.cell(row,col).border = Border(left=Side(border_style='double', color='FF000000'),\n",
    "                                                right=Side(border_style='double', color='FF000000'),\n",
    "                                                top=Side(border_style='double', color='FF000000'),\n",
    "                                                bottom=Side(border_style='double', color='FF000000'))\n",
    "        \n",
    "        worksheet.row_dimensions[row].height = 80\n",
    "        \n",
    "        col_letter = get_column_letter(col)\n",
    "        worksheet.column_dimensions[col_letter].width = 20"
   ]
  },
  {
   "cell_type": "code",
   "execution_count": 4,
   "id": "57c54183-04bf-435e-8c3c-56ad79b4bbd6",
   "metadata": {},
   "outputs": [],
   "source": [
    "workbook.save('styles.xlsx')"
   ]
  }
 ],
 "metadata": {
  "kernelspec": {
   "display_name": "Python 3",
   "language": "python",
   "name": "python3"
  },
  "language_info": {
   "codemirror_mode": {
    "name": "ipython",
    "version": 3
   },
   "file_extension": ".py",
   "mimetype": "text/x-python",
   "name": "python",
   "nbconvert_exporter": "python",
   "pygments_lexer": "ipython3",
   "version": "3.8.8"
  }
 },
 "nbformat": 4,
 "nbformat_minor": 5
}
