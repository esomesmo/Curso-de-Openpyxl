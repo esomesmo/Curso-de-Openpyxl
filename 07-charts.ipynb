{
 "cells": [
  {
   "cell_type": "markdown",
   "id": "b3d5c8b9-a10f-4af0-b473-2c060abae940",
   "metadata": {},
   "source": [
    "# CHARTS"
   ]
  },
  {
   "cell_type": "code",
   "execution_count": 10,
   "id": "4e70d1f0-89c0-4f2d-869c-e9106256eacb",
   "metadata": {
    "tags": []
   },
   "outputs": [],
   "source": [
    "import openpyxl\n",
    "from openpyxl import Workbook\n",
    "from openpyxl.chart import BarChart, LineChart, Reference\n",
    "from openpyxl.utils.dataframe import dataframe_to_rows\n",
    "import pandas as pd\n",
    "import numpy as np"
   ]
  },
  {
   "cell_type": "code",
   "execution_count": 11,
   "id": "54e21e9c-ec0e-4b6e-9eee-bf2a8df34453",
   "metadata": {},
   "outputs": [],
   "source": [
    "# create a workbook, grab active worksheet, and set the title\n",
    "workbook = Workbook()\n",
    "worksheet = workbook.active\n",
    "worksheet.title = 'bar'"
   ]
  },
  {
   "cell_type": "code",
   "execution_count": 12,
   "id": "55ca9b31-e009-4e7a-83c4-c9f053a4c3b9",
   "metadata": {
    "tags": []
   },
   "outputs": [],
   "source": [
    "# bar chart\n",
    "\n",
    "# append data to worksheet used for bar chart\n",
    "for i in range(1,11):\n",
    "    worksheet.append([i])\n",
    "\n",
    "# reference data that will be used for chart by column and row numbers\n",
    "values = Reference(worksheet, min_col=1, min_row=1, max_col=1, max_row=10)\n",
    "\n",
    "# create bar chart\n",
    "bar_chart = BarChart()\n",
    "\n",
    "# add data values to bar chart for bar chart bars\n",
    "bar_chart.add_data(values)\n",
    "\n",
    "# add chart to worksheet\n",
    "worksheet.add_chart(bar_chart, anchor='A15')"
   ]
  },
  {
   "cell_type": "code",
   "execution_count": 13,
   "id": "693e6f65-b151-475c-9351-a86a65e54080",
   "metadata": {
    "tags": []
   },
   "outputs": [],
   "source": [
    "# line chart\n",
    "\n",
    "# create new worksheet within workbook\n",
    "worksheet2 = workbook.create_sheet('line')\n",
    "worksheet2.column_dimensions['A'].width = 20\n",
    "workbook.active = workbook['line']\n",
    "\n",
    "# create dataframe with a date range\n",
    "date_range = pd.date_range(start='1-1-16', end='1-31-16')\n",
    "numbers = np.random.randint(low=1, high=100, size=31, dtype=int)\n",
    "df = pd.DataFrame({'Dates': date_range,\n",
    "                   'Numbers': numbers})\n",
    "\n",
    "# append dataframe to worksheet\n",
    "for i in dataframe_to_rows(df, index=False, header=True):\n",
    "    worksheet2.append(i)\n",
    "\n",
    "# create line chart\n",
    "line_chart = LineChart()\n",
    "line_chart.title = 'Line Chart'\n",
    "line_chart.legend = None\n",
    "line_chart.y_axis.title = 'Values'\n",
    "line_chart.x_axis.title = 'Dates'\n",
    "\n",
    "# reference data that will be used for chart by column and row numbers\n",
    "values = Reference(worksheet2, min_col=2, min_row=2, max_col=2, max_row=32)\n",
    "\n",
    "# add data values for line chart\n",
    "line_chart.add_data(values)\n",
    "\n",
    "# reference dates that will be used for chart by column and row numbers\n",
    "dates = Reference(worksheet2, min_col=1, min_row=2, max_col=1, max_row=32)\n",
    "\n",
    "# set the categories / x-axis values\n",
    "line_chart.set_categories(dates)\n",
    "\n",
    "# add chart to worksheet\n",
    "worksheet2.add_chart(line_chart, anchor='D15')"
   ]
  },
  {
   "cell_type": "code",
   "execution_count": 14,
   "id": "42324ac6-efaf-45df-b053-415897f2fa0d",
   "metadata": {},
   "outputs": [],
   "source": [
    "# save workbook\n",
    "workbook.save('charts.xlsx')"
   ]
  }
 ],
 "metadata": {
  "kernelspec": {
   "display_name": "Python 3",
   "language": "python",
   "name": "python3"
  },
  "language_info": {
   "codemirror_mode": {
    "name": "ipython",
    "version": 3
   },
   "file_extension": ".py",
   "mimetype": "text/x-python",
   "name": "python",
   "nbconvert_exporter": "python",
   "pygments_lexer": "ipython3",
   "version": "3.8.8"
  }
 },
 "nbformat": 4,
 "nbformat_minor": 5
}
