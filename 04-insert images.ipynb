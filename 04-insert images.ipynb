{
 "cells": [
  {
   "cell_type": "markdown",
   "id": "cd743b0c-980f-40fc-8341-674319f5df7a",
   "metadata": {},
   "source": [
    "# INSERT IMAGES"
   ]
  },
  {
   "cell_type": "code",
   "execution_count": 3,
   "id": "9c9b4fde-05e4-48a3-aea7-48279e9a4a60",
   "metadata": {},
   "outputs": [],
   "source": [
    "from openpyxl import Workbook\n",
    "from openpyxl.drawing.image import Image\n",
    "from openpyxl.utils import get_column_letter\n",
    "import glob\n",
    "import os\n",
    "from natsort import natsorted"
   ]
  },
  {
   "cell_type": "code",
   "execution_count": 4,
   "id": "d53280ad-6b16-4e18-811a-c830e8e68ca5",
   "metadata": {},
   "outputs": [],
   "source": [
    "# insert single image\n",
    "\n",
    "# create a workbook and grab active worksheet\n",
    "wb = Workbook()\n",
    "ws = wb.active\n",
    "\n",
    "# path to image\n",
    "img = Image('Shapes/shape1.png')\n",
    "\n",
    "# add single image\n",
    "ws.add_image(img, 'A1')\n",
    "\n",
    "# save workbook\n",
    "wb.save('image.xlsx')"
   ]
  },
  {
   "cell_type": "code",
   "execution_count": 5,
   "id": "24509759-465c-4751-959c-13af4716c739",
   "metadata": {},
   "outputs": [
    {
     "name": "stdout",
     "output_type": "stream",
     "text": [
      "0 Shapes/shape1.png\n",
      "1 Shapes/shape2.png\n",
      "2 Shapes/shape3.png\n",
      "3 Shapes/shape4.png\n",
      "4 Shapes/shape5.png\n",
      "5 Shapes/shape6.png\n",
      "6 Shapes/shape7.png\n",
      "7 Shapes/shape8.png\n",
      "8 Shapes/shape9.png\n",
      "9 Shapes/shape10.png\n"
     ]
    }
   ],
   "source": [
    "# insert multiple images\n",
    "\n",
    "# create a workbook and grab active worksheet\n",
    "workbook = Workbook()\n",
    "worksheet = workbook.active\n",
    "\n",
    "# resize cells\n",
    "for row in range(1,11):\n",
    "    for col in range(1,3):\n",
    "        worksheet.row_dimensions[row].height = 230\n",
    "        col_letter = get_column_letter(col)\n",
    "        worksheet.column_dimensions[col_letter].width = 40\n",
    "\n",
    "# images list\n",
    "images = []\n",
    "for filename in natsorted(glob.glob('Shapes/*.png')):\n",
    "    images.append(filename)\n",
    "\n",
    "# insert images\n",
    "for index, image in enumerate(images):\n",
    "    worksheet.add_image(Image(image), anchor='A'+str(index+1))\n",
    "    print(index,image)\n",
    "\n",
    "# titles list\n",
    "titles = []\n",
    "for title in natsorted(glob.glob('Shapes/*.png')):\n",
    "    titles.append(os.path.basename(title))\n",
    "\n",
    "# insert titles\n",
    "for index, title in enumerate(titles):\n",
    "    worksheet.cell(row=index+1, column=2, value=title)\n",
    "\n",
    "# save workbook\n",
    "workbook.save('multiple_images.xlsx')"
   ]
  }
 ],
 "metadata": {
  "kernelspec": {
   "display_name": "Python 3",
   "language": "python",
   "name": "python3"
  },
  "language_info": {
   "codemirror_mode": {
    "name": "ipython",
    "version": 3
   },
   "file_extension": ".py",
   "mimetype": "text/x-python",
   "name": "python",
   "nbconvert_exporter": "python",
   "pygments_lexer": "ipython3",
   "version": "3.8.8"
  }
 },
 "nbformat": 4,
 "nbformat_minor": 5
}
