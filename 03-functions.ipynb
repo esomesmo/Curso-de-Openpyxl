{
 "cells": [
  {
   "cell_type": "markdown",
   "id": "08b8d5cc-afca-4bfa-a756-015c52c4102d",
   "metadata": {
    "tags": []
   },
   "source": [
    "# FUNCTIONS"
   ]
  },
  {
   "cell_type": "code",
   "execution_count": 92,
   "id": "bcb3f46e-4f75-4985-963e-30342d70f127",
   "metadata": {},
   "outputs": [],
   "source": [
    "# imports\n",
    "from openpyxl import Workbook\n",
    "from openpyxl import load_workbook\n",
    "from openpyxl.utils import get_column_letter"
   ]
  },
  {
   "cell_type": "code",
   "execution_count": 93,
   "id": "ac08addc-8504-451a-bee1-42e30825128f",
   "metadata": {},
   "outputs": [],
   "source": [
    "# create workbook and get active worksheet\n",
    "workbook = Workbook()\n",
    "worksheet = workbook.active\n",
    "\n",
    "# basic functions\n",
    "worksheet['A1'] = 'SUM'\n",
    "worksheet['B1'] = '=SUM(2,2)'\n",
    "\n",
    "worksheet['A2'] = 'AVERAGE'\n",
    "worksheet['B2'] = '=AVERAGE(1,2,3,4,5)'\n",
    "\n",
    "# save workbook\n",
    "workbook.save('functions.xlsx')"
   ]
  },
  {
   "cell_type": "code",
   "execution_count": 94,
   "id": "290bcab4-b764-42b8-a106-5500f15a0b52",
   "metadata": {},
   "outputs": [
    {
     "name": "stdout",
     "output_type": "stream",
     "text": [
      "('data',)\n",
      "(21,)\n",
      "(33,)\n",
      "(45,)\n",
      "(66,)\n",
      "(44,)\n",
      "(89,)\n",
      "(32,)\n",
      "(67,)\n",
      "(36,)\n",
      "(35,)\n",
      "[21, 33, 45, 66, 44, 89, 32, 67, 36, 35]\n"
     ]
    }
   ],
   "source": [
    "# view (display) data for sum function below\n",
    "# column with data header label and data = [21, 33, 45, 66, 44, 89, 32, 67, 36, 35]\n",
    "data_workbook = load_workbook('functions_data.xlsx')\n",
    "data_worksheet = data_workbook.active\n",
    "for row in data_worksheet.iter_rows(min_row=1, max_row=11, min_col=1, max_col=1, values_only=True):\n",
    "    print(row)\n",
    "    \n",
    "# sum data that is already in a worksheet\n",
    "data_worksheet['A12'] = '=SUM(A2:A11)'\n",
    "\n",
    "# formula example\n",
    "data_worksheet['A13'] = '=SUM(A2:A11)/2+100'\n",
    "\n",
    "# use custom python function in worksheet\n",
    "# list from column values to use for function\n",
    "l = []\n",
    "for i in data_worksheet['A']:\n",
    "    l.append(i.value)\n",
    "l = l[1:11]\n",
    "print(l)\n",
    "\n",
    "# custom function\n",
    "def standard_deviation(numbers):\n",
    "    l = []\n",
    "    mean = sum(numbers)/len(numbers)\n",
    "    for i in numbers:\n",
    "        l.append((i-mean)**2)\n",
    "    a = sum(l)\n",
    "    b = a/(len(numbers)-1)\n",
    "    std = b**(1/2)\n",
    "    return std\n",
    "\n",
    "# assign function return value to cell\n",
    "data_worksheet['A14'] = standard_deviation(l)\n",
    "\n",
    "# spreadsheet function for standard deviation\n",
    "data_worksheet['A15'] = '=STDEV(A2:A11)'\n",
    "\n",
    "# save workbook\n",
    "data_workbook.save('functions_data.xlsx')"
   ]
  },
  {
   "cell_type": "code",
   "execution_count": 95,
   "id": "7e4067d4-a508-4d00-bbf2-7555ca25d7a1",
   "metadata": {},
   "outputs": [
    {
     "name": "stdout",
     "output_type": "stream",
     "text": [
      "A\n",
      "B\n",
      "C\n",
      "D\n",
      "E\n"
     ]
    }
   ],
   "source": [
    "# sum function for many columns\n",
    "\n",
    "# create workbook and make worksheet active\n",
    "sum_columns_workbook = Workbook()\n",
    "sum_columns_worksheet = sum_columns_workbook.active\n",
    "\n",
    "# append rows\n",
    "sum_columns_worksheet.append([1, 2, 3, 4, 5])\n",
    "sum_columns_worksheet.append([1, 2, 3, 4, 5])\n",
    "sum_columns_worksheet.append([1, 2, 3, 4, 5])\n",
    "sum_columns_worksheet.append([1, 2, 3, 4, 5])\n",
    "sum_columns_worksheet.append([1, 2, 3, 4, 5])\n",
    "\n",
    "# sum each column\n",
    "min_row = sum_columns_worksheet.min_row\n",
    "max_row = sum_columns_worksheet.max_row\n",
    "for column in range(1, sum_columns_worksheet.max_column+1):\n",
    "    print(get_column_letter(column))\n",
    "    sum_columns_worksheet.cell(row=max_row+1, \n",
    "                               column=column,\n",
    "                               value=f'=SUM({get_column_letter(column)}{min_row}:{get_column_letter(column)}{max_row})'\n",
    "                              )\n",
    "\n",
    "# save workbook\n",
    "sum_columns_workbook.save('sum_columns.xlsx')"
   ]
  },
  {
   "cell_type": "code",
   "execution_count": 96,
   "id": "047f3061-05ab-47e1-8b9b-a69f2b0e7388",
   "metadata": {},
   "outputs": [],
   "source": [
    "# see data validation for vlookup example"
   ]
  }
 ],
 "metadata": {
  "kernelspec": {
   "display_name": "Python 3",
   "language": "python",
   "name": "python3"
  },
  "language_info": {
   "codemirror_mode": {
    "name": "ipython",
    "version": 3
   },
   "file_extension": ".py",
   "mimetype": "text/x-python",
   "name": "python",
   "nbconvert_exporter": "python",
   "pygments_lexer": "ipython3",
   "version": "3.8.8"
  }
 },
 "nbformat": 4,
 "nbformat_minor": 5
}
